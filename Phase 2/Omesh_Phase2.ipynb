{
  "nbformat": 4,
  "nbformat_minor": 0,
  "metadata": {
    "colab": {
      "name": "Omesh_Phase2.ipynb",
      "provenance": []
    },
    "kernelspec": {
      "name": "python3",
      "display_name": "Python 3"
    }
  },
  "cells": [
    {
      "cell_type": "code",
      "metadata": {
        "id": "JUdfW2r9JdzZ",
        "colab": {
          "base_uri": "https://localhost:8080/"
        },
        "outputId": "a63cc029-5d2e-4ea7-c496-98961244e01b"
      },
      "source": [
        "from google.colab import drive\n",
        "from sklearn import metrics\n",
        "import numpy as np\n",
        "import pandas as pd \n",
        "import matplotlib.pyplot as plt\n",
        "import seaborn as sns\n",
        "from sklearn.model_selection import train_test_split\n",
        "from sklearn.linear_model import LinearRegression\n",
        "\n",
        "%matplotlib inline\n",
        "import os\n",
        "drive.mount('/content/gdrive')"
      ],
      "execution_count": 1,
      "outputs": [
        {
          "output_type": "stream",
          "text": [
            "Mounted at /content/gdrive\n"
          ],
          "name": "stdout"
        }
      ]
    },
    {
      "cell_type": "code",
      "metadata": {
        "colab": {
          "base_uri": "https://localhost:8080/"
        },
        "id": "AE-_mHmLQEJ4",
        "outputId": "2e2ac661-2753-4941-9e7a-6c9a2452f697"
      },
      "source": [
        "print(os.listdir(\"/content/gdrive/MyDrive\"))"
      ],
      "execution_count": 2,
      "outputs": [
        {
          "output_type": "stream",
          "text": [
            "['Getting started.pdf', 'WP_20170419_100.jpg', 'WP_20170419_098.jpg', 'WP_20170419_099.jpg', 'WP_20170419_101.jpg', 'WP_20170419_103.jpg', 'WP_20170419_102.jpg', 'WP_20170419_104.jpg', 'WP_20170419_107.jpg', 'WP_20170419_106.jpg', 'WP_20170419_109.jpg', 'WP_20170419_113.jpg', 'WP_20170419_110.jpg', 'WP_20170419_114.jpg', 'WP_20170419_117.jpg', 'WP_20170419_115.jpg', 'WP_20170419_118.jpg', 'WP_20170419_121.jpg', 'WP_20170419_127.jpg', 'WP_20170419_128.jpg', 'WP_20170419_131.jpg', 'facerecognition.py', 'AI Introduction.pptx', 'aup6.py', 'aup1.py', 'aup2.py', 'aup3.py', 'amazoncode.py', 'annregression.py', 'Artificial Intelligence.pptx', 'characterrecognition using svm.py', 'digitrecognition using MLP.py', 'edgedetection.py', 'facedetection.py', 'facedetectionbest.py', 'finalselfdrivingcar.py', 'haarcascade_eye.xml', 'haarcascade_frontalface_alt2.xml', 'imageprocessing.py', 'linearregressionmodel.py', 'linearregressiontoday.py', 'linearregressionusingsklearn.py', 'Machine learninig.pptx', 'aup4.py', 'aup5.py', 'backprpagationalgorithm.py', 'breast-cancer-wisconsin.data.txt', 'Contacts ', 'Untitled presentation (1).gslides', 'Project 1 (1).gslides', 'Project.pptx', 'Project (1).pptx.gslides', 'Project 1.gslides', 'healthyhabits-150202144536-conversion-gate02', 'healthyhabits-150202144536-conversion-gate02.gslides', 'Project.pptx.gslides', 'hack.pptx.gslides', 'Report.gdoc', 'Untitled document (6).gdoc', 'Aduri.pdf', 'Document from Omesh.pdf', 'maths - Page 32.pdf', 'chemistry text.pdf', '2018062517062.pdf', 'NAME: M OMESH.gdoc', 'wall paintings.gdoc', 'labsheets.gdoc', 'Embeded Case Study - S4 CSE A.gdoc', 'ES_casestudy (1).gdoc', 'ES_casestudy.gdoc', 'May-024.jpg', 'May-025.jpg', 'Untitled document (5).gdoc', 'Paytm_Statement_financial_year_18_19_8317613552.csv', 'Paytm_Statement_financial_year_18_19_8317613552.gsheet', 'Untitled presentation.gslides', 'EVS Presentation.pptx', 'Am (5).en.u4cse17310.tar.gz', 'Am (4).en.u4cse17310.tar.gz', 'Am (3).en.u4cse17310.tar.gz', 'Am (2).en.u4cse17310.tar.gz', 'Am (1).en.u4cse17310.tar.gz', 'Am.en.u4cse17310.tar.gz', 'Am.en.u4cse17310.zip', 'u4cse17310 (4).zip', 'u4cse17310 (3).zip', 'u4cse17310 (2).zip', 'u4cse17310 (1).zip', 'u4cse17310.zip', 'DBMS Review 2.gsheet', 'Untitled presentation.pdf', 'Courier Tracking System_V2.0.gdoc', 'Computer Networks Lab -3(DNS).gdoc', 'Compiler Design Tutorial-6.gdoc', '_PR_7096.JPG', '_PR_7098.JPG', '_PR_7100.JPG', '_PR_7099.JPG', '_PR_7101.JPG', 'srinu bava pics- Harish n Susmita Engagement.zip', 'Part A.gdoc', 'CLR(1).gdoc', 'Block chain based final year project idea.gdoc', 'Notes on se project by omesh.gdoc', 'C13 Project Proposal.gdoc', 'C13 Group Project Proposal.gdoc', 'Untitled document (4).gdoc', 'Majety_Omesh_Resume (AM.EN.U4CSE17310).pdf.pdf) Ver_2.0-converted.gdoc', 'Untitled document (3).gdoc', 'Majety_Omesh_Resume.docx', 'Electricals.gsheet', 'Untitled document (2).gdoc', 'Nift.gdoc', 'Majety_Omesh_Resume (AM.EN.U4CSE17310).pdf.pdf) Ver_2.0 (1).pdf', 'Majety_Omesh_Resume (AM.EN.U4CSE17310).pdf.pdf) Ver_2.0.pdf', 'SE.rar', 'SE.zip', 'OOPS.zip', 'Business Card 21-Jul-2020.pdf', 'card reordet.pdf', 'card reordet (1).gdoc', 'card reordet.gdoc', 'Untitled document (1).gdoc', '5_6190588443945337564.ipynb.gdoc', 'Majety Omesh Resume.pdf', 'Colab Notebooks', '1Aptean _ Job Announcement for BE _ B.Tech – 2021 Batch regd-Final.xlsx', 'Neighborhood Development.gslides', 'Resume', 'Majety_omesh_resume1.gdoc', 'Untitled document.gdoc', '545695171130920.pdf', 'PYP Phase 1.gdoc', 'FYP Phase1--SurveyDocument.gdoc', 'data.txt', 'Majety Omesh(AM.EN.U4CSE17310).mp4', 'Assignment III_Big_Data.gsheet', 'test3.csv', 'Machine_Learning_Phase-3.gdoc', 'train3.csv']\n"
          ],
          "name": "stdout"
        }
      ]
    },
    {
      "cell_type": "code",
      "metadata": {
        "id": "WMmhPvfoQGUK"
      },
      "source": [
        "train = pd.read_csv('/content/gdrive/MyDrive/train3.csv')\n",
        "test = pd.read_csv('/content/gdrive/MyDrive/test3.csv')"
      ],
      "execution_count": 4,
      "outputs": []
    },
    {
      "cell_type": "code",
      "metadata": {
        "colab": {
          "base_uri": "https://localhost:8080/"
        },
        "id": "Jq6pSbVSQUJ5",
        "outputId": "62b67ffa-4a52-4d74-dfc7-97b3432864ce"
      },
      "source": [
        "print(\"train data shape: \",train.shape)\n",
        "print(\"Test data shape: \",test.shape)"
      ],
      "execution_count": 5,
      "outputs": [
        {
          "output_type": "stream",
          "text": [
            "train data shape:  (150150, 9)\n",
            "Test data shape:  (13860, 8)\n"
          ],
          "name": "stdout"
        }
      ]
    },
    {
      "cell_type": "code",
      "metadata": {
        "colab": {
          "base_uri": "https://localhost:8080/",
          "height": 195
        },
        "id": "GQrt68W0QYfu",
        "outputId": "16d47063-f6fb-4839-e4e0-4b95e5fd7b35"
      },
      "source": [
        "train.head()"
      ],
      "execution_count": 6,
      "outputs": [
        {
          "output_type": "execute_result",
          "data": {
            "text/html": [
              "<div>\n",
              "<style scoped>\n",
              "    .dataframe tbody tr th:only-of-type {\n",
              "        vertical-align: middle;\n",
              "    }\n",
              "\n",
              "    .dataframe tbody tr th {\n",
              "        vertical-align: top;\n",
              "    }\n",
              "\n",
              "    .dataframe thead th {\n",
              "        text-align: right;\n",
              "    }\n",
              "</style>\n",
              "<table border=\"1\" class=\"dataframe\">\n",
              "  <thead>\n",
              "    <tr style=\"text-align: right;\">\n",
              "      <th></th>\n",
              "      <th>record_ID</th>\n",
              "      <th>week</th>\n",
              "      <th>store_id</th>\n",
              "      <th>sku_id</th>\n",
              "      <th>total_price</th>\n",
              "      <th>base_price</th>\n",
              "      <th>is_featured_sku</th>\n",
              "      <th>is_display_sku</th>\n",
              "      <th>units_sold</th>\n",
              "    </tr>\n",
              "  </thead>\n",
              "  <tbody>\n",
              "    <tr>\n",
              "      <th>0</th>\n",
              "      <td>1</td>\n",
              "      <td>17/01/11</td>\n",
              "      <td>8091</td>\n",
              "      <td>216418</td>\n",
              "      <td>99.0375</td>\n",
              "      <td>111.8625</td>\n",
              "      <td>0</td>\n",
              "      <td>0</td>\n",
              "      <td>20</td>\n",
              "    </tr>\n",
              "    <tr>\n",
              "      <th>1</th>\n",
              "      <td>2</td>\n",
              "      <td>17/01/11</td>\n",
              "      <td>8091</td>\n",
              "      <td>216419</td>\n",
              "      <td>99.0375</td>\n",
              "      <td>99.0375</td>\n",
              "      <td>0</td>\n",
              "      <td>0</td>\n",
              "      <td>28</td>\n",
              "    </tr>\n",
              "    <tr>\n",
              "      <th>2</th>\n",
              "      <td>3</td>\n",
              "      <td>17/01/11</td>\n",
              "      <td>8091</td>\n",
              "      <td>216425</td>\n",
              "      <td>133.9500</td>\n",
              "      <td>133.9500</td>\n",
              "      <td>0</td>\n",
              "      <td>0</td>\n",
              "      <td>19</td>\n",
              "    </tr>\n",
              "    <tr>\n",
              "      <th>3</th>\n",
              "      <td>4</td>\n",
              "      <td>17/01/11</td>\n",
              "      <td>8091</td>\n",
              "      <td>216233</td>\n",
              "      <td>133.9500</td>\n",
              "      <td>133.9500</td>\n",
              "      <td>0</td>\n",
              "      <td>0</td>\n",
              "      <td>44</td>\n",
              "    </tr>\n",
              "    <tr>\n",
              "      <th>4</th>\n",
              "      <td>5</td>\n",
              "      <td>17/01/11</td>\n",
              "      <td>8091</td>\n",
              "      <td>217390</td>\n",
              "      <td>141.0750</td>\n",
              "      <td>141.0750</td>\n",
              "      <td>0</td>\n",
              "      <td>0</td>\n",
              "      <td>52</td>\n",
              "    </tr>\n",
              "  </tbody>\n",
              "</table>\n",
              "</div>"
            ],
            "text/plain": [
              "   record_ID      week  store_id  ...  is_featured_sku  is_display_sku  units_sold\n",
              "0          1  17/01/11      8091  ...                0               0          20\n",
              "1          2  17/01/11      8091  ...                0               0          28\n",
              "2          3  17/01/11      8091  ...                0               0          19\n",
              "3          4  17/01/11      8091  ...                0               0          44\n",
              "4          5  17/01/11      8091  ...                0               0          52\n",
              "\n",
              "[5 rows x 9 columns]"
            ]
          },
          "metadata": {
            "tags": []
          },
          "execution_count": 6
        }
      ]
    },
    {
      "cell_type": "code",
      "metadata": {
        "colab": {
          "base_uri": "https://localhost:8080/"
        },
        "id": "HMldDvaSQaVD",
        "outputId": "00bae58c-bc0f-41eb-a65f-3c632995d373"
      },
      "source": [
        "train.isnull().sum()"
      ],
      "execution_count": 7,
      "outputs": [
        {
          "output_type": "execute_result",
          "data": {
            "text/plain": [
              "record_ID          0\n",
              "week               0\n",
              "store_id           0\n",
              "sku_id             0\n",
              "total_price        1\n",
              "base_price         0\n",
              "is_featured_sku    0\n",
              "is_display_sku     0\n",
              "units_sold         0\n",
              "dtype: int64"
            ]
          },
          "metadata": {
            "tags": []
          },
          "execution_count": 7
        }
      ]
    },
    {
      "cell_type": "code",
      "metadata": {
        "id": "ejbtNjVIQgus"
      },
      "source": [
        ""
      ],
      "execution_count": null,
      "outputs": []
    }
  ]
}